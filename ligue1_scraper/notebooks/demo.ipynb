{
 "cells": [
  {
   "cell_type": "code",
   "execution_count": null,
   "id": "f2f24599",
   "metadata": {},
   "outputs": [
    {
     "ename": "",
     "evalue": "",
     "output_type": "error",
     "traceback": [
      "\u001b[1;31mRunning cells with 'Python 3.13.5' requires the ipykernel package.\n",
      "\u001b[1;31m<a href='command:jupyter.createPythonEnvAndSelectController'>Create a Python Environment</a> with the required packages.\n",
      "\u001b[1;31mOr install 'ipykernel' using the command: 'c:/Users/Elliot/AppData/Local/Microsoft/WindowsApps/python3.13.exe -m pip install ipykernel -U --user --force-reinstall'"
     ]
    }
   ],
   "source": [
    "# notebook_demo.ipynb\n",
    "\n",
    "# 1. Chargement des données\n",
    "\n",
    "import pandas as pd\n",
    "\n",
    "df = pd.read_csv(\"clubs_ligue1_geo.csv\")\n",
    "df.head()\n"
   ]
  },
  {
   "cell_type": "code",
   "execution_count": null,
   "id": "2b8b03d9",
   "metadata": {},
   "outputs": [],
   "source": [
    "# 2. Affichage de la carte interactive (dans le notebook)\n",
    "\n",
    "import folium\n",
    "from folium.plugins import MarkerCluster\n",
    "\n",
    "# Supprimer les lignes sans coordonnées\n",
    "df_geo = df.dropna(subset=[\"Latitude\", \"Longitude\"])\n",
    "\n",
    "m = folium.Map(location=[46.8, 2.5], zoom_start=6, tiles=\"CartoDB positron\")\n",
    "marker_cluster = MarkerCluster().add_to(m)\n",
    "\n",
    "for _, row in df_geo.iterrows():\n",
    "    popup = f\"<b>{row['Club']}</b><br>Stade : {row['Stade']}<br>Capacité : {row['Capacité en L1']}\"\n",
    "    folium.Marker(\n",
    "        location=[row[\"Latitude\"], row[\"Longitude\"]],\n",
    "        popup=popup\n",
    "    ).add_to(marker_cluster)\n",
    "\n",
    "m\n"
   ]
  },
  {
   "cell_type": "code",
   "execution_count": null,
   "id": "22e4a415",
   "metadata": {},
   "outputs": [],
   "source": [
    "# 3. Graphique des capacités\n",
    "\n",
    "import matplotlib.pyplot as plt\n",
    "\n",
    "# Assurer l'ordre décroissant\n",
    "df_sorted = df.sort_values(by=\"Capacité en L1\", ascending=False)\n",
    "\n",
    "plt.figure(figsize=(12, 6))\n",
    "plt.bar(df_sorted[\"Club\"], df_sorted[\"Capacité en L1\"], color=\"skyblue\")\n",
    "plt.xticks(rotation=90)\n",
    "plt.title(\"Capacité des stades de Ligue 1 (2024-2025)\")\n",
    "plt.ylabel(\"Capacité\")\n",
    "plt.tight_layout()\n",
    "plt.show()\n"
   ]
  },
  {
   "cell_type": "code",
   "execution_count": null,
   "id": "b6779b68",
   "metadata": {},
   "outputs": [],
   "source": [
    "# 4. Accès à l'API locale (si Flask tourne)\n",
    "\n",
    "import requests\n",
    "\n",
    "url = \"http://127.0.0.1:5000/api/clubs\"  # Lancer `app.py` avant\n",
    "response = requests.get(url)\n",
    "\n",
    "if response.status_code == 200:\n",
    "    clubs = response.json()\n",
    "    pd.DataFrame(clubs).head()\n",
    "else:\n",
    "    print(\"Erreur de connexion à l'API\")\n"
   ]
  },
  {
   "cell_type": "code",
   "execution_count": null,
   "id": "37be2dbf",
   "metadata": {},
   "outputs": [],
   "source": [
    "# 5. Conclusion\n",
    "\n",
    "from IPython.display import Markdown\n",
    "\n",
    "Markdown(\"\"\"\n",
    "✅ **Projet terminé**\n",
    "\n",
    "- Données scrappées et nettoyées\n",
    "- Carte interactive générée\n",
    "- Visualisation statistique réalisée\n",
    "- API Flask fonctionnelle\n",
    "\n",
    "💡 Ce notebook peut être utilisé pour démontrer rapidement le pipeline de bout en bout.\n",
    "\"\"\")\n"
   ]
  }
 ],
 "metadata": {
  "kernelspec": {
   "display_name": "Python 3",
   "language": "python",
   "name": "python3"
  },
  "language_info": {
   "name": "python",
   "version": "3.13.5"
  }
 },
 "nbformat": 4,
 "nbformat_minor": 5
}
